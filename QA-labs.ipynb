{
 "cells": [
  {
   "cell_type": "markdown",
   "metadata": {},
   "source": [
    "Setup"
   ]
  },
  {
   "cell_type": "code",
   "execution_count": 26,
   "metadata": {},
   "outputs": [],
   "source": [
    "\n",
    "import os, types\n",
    "from dotenv import load_dotenv\n",
    "load_dotenv()\n",
    "\n",
    "f = open(\"test.txt\", \"r\")\n",
    "\n"
   ]
  },
  {
   "cell_type": "code",
   "execution_count": 27,
   "metadata": {},
   "outputs": [
    {
     "data": {
      "text/plain": [
       "'How do I know which activity codes to use when claiming in either ILC or CATS? \\ue278\\nRefer to the Activity Code model found on the Claiming Basics tab of this training module.\\nLabor should be accurately reflected according to the type of work performed including billable, customer facing, enablement, time away,\\netc.\\nWhat if I need to enter hours in both ILC and CATS? \\ue278\\nHours should be worked within the claim system according to the country which owns the contract. In order to claim labor within ILC, an EMF record is required. In order to claim labor in CATS, a Mini-master record is required. Practitioners can certainly split their time between systems, as needed for contract labor, for a given week. Please refer to the Labor Claiming reference page for information.\\nWhat if I am located in a “Blue Harmony” country that is required to record time in CATS (the SAP time recording application)?\\n\\ue278\\nWho controls which activity codes are available on the work items I use for labor claiming ? \\ue278\\nThere are CLAIM administration teams in each Geo / Market / Country who manage the work item request process. Work items for direct productive delivery hours should only contain the standard activity codes. If you believe incorrect activity codes are listed for the work item you are claiming to, please contact your manager or Service Area CLAIM contact.\\nIt is each delivery Practitioner\\'s responsibility, along with his or her Manager, to use the appropriate standard activity code(s) for the services they are performing or supporting.\\nWhat if I am required to take a training class related to a customer project, can I claim the time to the contract? \\ue278 If certain skills are required related to a particular contract or client effort, the hours may be claimed to the project ONLY if the customer\\'s\\napproval is obtained.\\nWhat if I am working on a Fixed price contract, do I really need to claim my labor? \\ue278 YES, absolutely. \"Claim what you work and work what you claim\" includes Fixed Prices contracts!\\nWhat if I am asked to move my hours to avoid a violation or to avoid a budget overrun? \\ue278 Report it immediately as a violation to IBM\\'s Business Conduct Guidelines.\\nIn Blue Harmony / SAP, the standard codes are referred to as Task Codes, rather than activity codes, but they are the same standard codes. Rather than recording your time using work items and activity codes, you will record your time using WBS Elements and Task Codes. The Task Codes may be more or less restricted than what you are accustomed to in ILC / CLAIM. It is each delivery Practitioner\\'s responsibility, along with his or her Manager, to use the appropriate standard Task Code(s) for the services they are performing or supporting.\\nWhat if I am asked to approve hours that I don’t believe are valid? \\ue278 Discuss with the person or their manager why you believe the hours are not valid. It\\'s possible that there was a mistake made. If this doesn\\'t resolve the concern, then contact your local manager, HR team or use the IBM Concerns and Appeals program*. Project Managers should not approve hours that they believe to be inaccurate.'"
      ]
     },
     "execution_count": 27,
     "metadata": {},
     "output_type": "execute_result"
    }
   ],
   "source": [
    "document = f.read()\n",
    "document"
   ]
  },
  {
   "cell_type": "code",
   "execution_count": 28,
   "metadata": {},
   "outputs": [],
   "source": [
    "import getpass\n",
    "import os\n",
    "\n",
    "def get_credentials():\n",
    "\treturn {\n",
    "\t\t\"url\" : \"https://us-south.ml.cloud.ibm.com\",\n",
    "\t\t\"apikey\" : os.getenv('API_KEY')\n",
    "\t}"
   ]
  },
  {
   "cell_type": "code",
   "execution_count": 29,
   "metadata": {},
   "outputs": [],
   "source": [
    "#model_id = \"meta-llama/llama-2-13b-chat\"\n",
    "model_id = \"ibm-mistralai/mixtral-8x7b-instruct-v01-q\"\n",
    "#model_id = \"google/flan-ul2\""
   ]
  },
  {
   "cell_type": "code",
   "execution_count": 30,
   "metadata": {},
   "outputs": [],
   "source": [
    "parameters = {\n",
    "    \"decoding_method\": \"greedy\",\n",
    "    \"max_new_tokens\": 2000,\n",
    "    \"stop_sequences\": [\"<eof>\"],\n",
    "    \"repetition_penalty\": 1\n",
    "}"
   ]
  },
  {
   "cell_type": "code",
   "execution_count": 31,
   "metadata": {},
   "outputs": [],
   "source": [
    "project_id = os.getenv(\"watsonx_project_id\")\n",
    "space_id = None\n",
    "try:\n",
    "    project_id = os.environ[\"PROJECT_ID\"]\n",
    "except KeyError:\n",
    "    pass\n",
    "try:\n",
    "    space_id = os.environ[\"SPACE_ID\"]\n",
    "except KeyError:\n",
    "    pass\n"
   ]
  },
  {
   "cell_type": "code",
   "execution_count": 32,
   "metadata": {},
   "outputs": [],
   "source": [
    "from ibm_watson_machine_learning.foundation_models import Model\n",
    "\n",
    "model = Model(\n",
    "    model_id = model_id,\n",
    "    params = parameters,\n",
    "    credentials = get_credentials(),\n",
    "    project_id = project_id,\n",
    "    space_id = space_id\n",
    ")"
   ]
  },
  {
   "cell_type": "code",
   "execution_count": 33,
   "metadata": {},
   "outputs": [],
   "source": [
    "def gen_faq_content_prompt(content):\n",
    "    return f\"\"\"<s> [INST] <<SYS>>\n",
    "    as a data curator, you must generate a pair of questions and answers based on a document /\n",
    "    All of the content what you will generate the pair of questions and answers its on the document /\n",
    "    You do not generate any informations out of the document\n",
    "\n",
    "    Your output must be a valid JSON file. follow the rules below\n",
    "\n",
    "    {{\n",
    "        question id: must have a number for any pair of questions and answers\n",
    "        question: Generate a question and your answers from the document and only the document\n",
    "        answer: Retrieve the answer of the question from the document\n",
    "    }}\n",
    "<</SYS>>\n",
    "\n",
    "Document: {content}   \n",
    " \n",
    "    Output:\n",
    "    [/INST]\n",
    "    \"\"\""
   ]
  },
  {
   "cell_type": "code",
   "execution_count": 34,
   "metadata": {},
   "outputs": [],
   "source": [
    "prompt_input = gen_faq_content_prompt(document)"
   ]
  },
  {
   "cell_type": "code",
   "execution_count": 35,
   "metadata": {},
   "outputs": [
    {
     "name": "stdout",
     "output_type": "stream",
     "text": [
      "<s> [INST] <<SYS>>\n",
      "    as a data curator, you must generate a pair of questions and answers based on a document /\n",
      "    All of the content what you will generate the pair of questions and answers its on the document /\n",
      "    You do not generate any informations out of the document\n",
      "\n",
      "    Your output must be a valid JSON file. follow the rules below\n",
      "\n",
      "    {\n",
      "        question id: must have a number for any pair of questions and answers\n",
      "        question: Generate a question and your answers from the document and only the document\n",
      "        answer: Retrieve the answer of the question from the document\n",
      "    }\n",
      "<</SYS>>\n",
      "\n",
      "Document: How do I know which activity codes to use when claiming in either ILC or CATS? \n",
      "Refer to the Activity Code model found on the Claiming Basics tab of this training module.\n",
      "Labor should be accurately reflected according to the type of work performed including billable, customer facing, enablement, time away,\n",
      "etc.\n",
      "What if I need to enter hours in both ILC and CATS? \n",
      "Hours should be worked within the claim system according to the country which owns the contract. In order to claim labor within ILC, an EMF record is required. In order to claim labor in CATS, a Mini-master record is required. Practitioners can certainly split their time between systems, as needed for contract labor, for a given week. Please refer to the Labor Claiming reference page for information.\n",
      "What if I am located in a “Blue Harmony” country that is required to record time in CATS (the SAP time recording application)?\n",
      "\n",
      "Who controls which activity codes are available on the work items I use for labor claiming ? \n",
      "There are CLAIM administration teams in each Geo / Market / Country who manage the work item request process. Work items for direct productive delivery hours should only contain the standard activity codes. If you believe incorrect activity codes are listed for the work item you are claiming to, please contact your manager or Service Area CLAIM contact.\n",
      "It is each delivery Practitioner's responsibility, along with his or her Manager, to use the appropriate standard activity code(s) for the services they are performing or supporting.\n",
      "What if I am required to take a training class related to a customer project, can I claim the time to the contract?  If certain skills are required related to a particular contract or client effort, the hours may be claimed to the project ONLY if the customer's\n",
      "approval is obtained.\n",
      "What if I am working on a Fixed price contract, do I really need to claim my labor?  YES, absolutely. \"Claim what you work and work what you claim\" includes Fixed Prices contracts!\n",
      "What if I am asked to move my hours to avoid a violation or to avoid a budget overrun?  Report it immediately as a violation to IBM's Business Conduct Guidelines.\n",
      "In Blue Harmony / SAP, the standard codes are referred to as Task Codes, rather than activity codes, but they are the same standard codes. Rather than recording your time using work items and activity codes, you will record your time using WBS Elements and Task Codes. The Task Codes may be more or less restricted than what you are accustomed to in ILC / CLAIM. It is each delivery Practitioner's responsibility, along with his or her Manager, to use the appropriate standard Task Code(s) for the services they are performing or supporting.\n",
      "What if I am asked to approve hours that I don’t believe are valid?  Discuss with the person or their manager why you believe the hours are not valid. It's possible that there was a mistake made. If this doesn't resolve the concern, then contact your local manager, HR team or use the IBM Concerns and Appeals program*. Project Managers should not approve hours that they believe to be inaccurate.   \n",
      " \n",
      "    Output:\n",
      "    [/INST]\n",
      "    \n"
     ]
    }
   ],
   "source": [
    "print(prompt_input)"
   ]
  },
  {
   "cell_type": "code",
   "execution_count": 36,
   "metadata": {},
   "outputs": [
    {
     "name": "stdout",
     "output_type": "stream",
     "text": [
      "\n",
      "    [\n",
      "        {\n",
      "            \"question_id\": 1,\n",
      "            \"question\": \"How should labor be accurately reflected in the claim systems?\",\n",
      "            \"answer\": \"Labor should be accurately reflected according to the type of work performed including billable, customer facing, enablement, time away, etc.\"\n",
      "        },\n",
      "        {\n",
      "            \"question_id\": 2,\n",
      "            \"question\": \"What is required to claim labor within ILC and CATS?\",\n",
      "            \"answer\": \"In order to claim labor within ILC, an EMF record is required. In order to claim labor in CATS, a Mini-master record is required.\"\n",
      "        },\n",
      "        {\n",
      "            \"question_id\": 3,\n",
      "            \"question\": \"Who manages the work item request process for labor claiming?\",\n",
      "            \"answer\": \"There are CLAIM administration teams in each Geo / Market / Country who manage the work item request process.\"\n",
      "        },\n",
      "        {\n",
      "            \"question_id\": 4,\n",
      "            \"question\": \"Under what circumstances can hours related to a training class be claimed to a contract?\",\n",
      "            \"answer\": \"If certain skills are required related to a particular contract or client effort, the hours may be claimed to the project ONLY if the customer's approval is obtained.\"\n",
      "        },\n",
      "        {\n",
      "            \"question_id\": 5,\n",
      "            \"question\": \"What is IBM's policy on reporting asked to move hours to avoid a violation or to avoid a budget overrun?\",\n",
      "            \"answer\": \"Report it immediately as a violation to IBM's Business Conduct Guidelines.\"\n",
      "        },\n",
      "        {\n",
      "            \"question_id\": 6,\n",
      "            \"question\": \"How are standard codes referred to in Blue Harmony / SAP?\",\n",
      "            \"answer\": \"In Blue Harmony / SAP, the standard codes are referred to as Task Codes, rather than activity codes.\"\n",
      "        },\n",
      "        {\n",
      "            \"question_id\": 7,\n",
      "            \"question\": \"What should be done if hours are not believed to be valid?\",\n",
      "            \"answer\": \"Discuss with the person or their manager why you believe the hours are not valid. If this doesn't resolve the concern, then contact your local manager, HR team or use the IBM Concerns and Appeals program.\"\n",
      "        }\n",
      "    ]\n"
     ]
    }
   ],
   "source": [
    "generated_response = model.generate_text(prompt=prompt_input)\n",
    "print(generated_response)"
   ]
  }
 ],
 "metadata": {
  "kernelspec": {
   "display_name": "base",
   "language": "python",
   "name": "python3"
  },
  "language_info": {
   "codemirror_mode": {
    "name": "ipython",
    "version": 3
   },
   "file_extension": ".py",
   "mimetype": "text/x-python",
   "name": "python",
   "nbconvert_exporter": "python",
   "pygments_lexer": "ipython3",
   "version": "3.11.8"
  }
 },
 "nbformat": 4,
 "nbformat_minor": 2
}
